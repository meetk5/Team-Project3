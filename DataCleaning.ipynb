{
 "cells": [
  {
   "cell_type": "code",
   "execution_count": 42,
   "id": "b1b81f09",
   "metadata": {},
   "outputs": [],
   "source": [
    "import pandas as pd"
   ]
  },
  {
   "cell_type": "code",
   "execution_count": 48,
   "id": "55bb5789",
   "metadata": {},
   "outputs": [
    {
     "data": {
      "text/html": [
       "<div>\n",
       "<style scoped>\n",
       "    .dataframe tbody tr th:only-of-type {\n",
       "        vertical-align: middle;\n",
       "    }\n",
       "\n",
       "    .dataframe tbody tr th {\n",
       "        vertical-align: top;\n",
       "    }\n",
       "\n",
       "    .dataframe thead th {\n",
       "        text-align: right;\n",
       "    }\n",
       "</style>\n",
       "<table border=\"1\" class=\"dataframe\">\n",
       "  <thead>\n",
       "    <tr style=\"text-align: right;\">\n",
       "      <th></th>\n",
       "      <th>CAMIS</th>\n",
       "      <th>DBA</th>\n",
       "      <th>BORO</th>\n",
       "      <th>BUILDING</th>\n",
       "      <th>STREET</th>\n",
       "      <th>ZIPCODE</th>\n",
       "      <th>PHONE</th>\n",
       "      <th>CUISINE DESCRIPTION</th>\n",
       "      <th>INSPECTION DATE</th>\n",
       "      <th>ACTION</th>\n",
       "      <th>...</th>\n",
       "      <th>RECORD DATE</th>\n",
       "      <th>INSPECTION TYPE</th>\n",
       "      <th>Latitude</th>\n",
       "      <th>Longitude</th>\n",
       "      <th>Community Board</th>\n",
       "      <th>Council District</th>\n",
       "      <th>Census Tract</th>\n",
       "      <th>BIN</th>\n",
       "      <th>BBL</th>\n",
       "      <th>NTA</th>\n",
       "    </tr>\n",
       "  </thead>\n",
       "  <tbody>\n",
       "    <tr>\n",
       "      <th>0</th>\n",
       "      <td>30075445</td>\n",
       "      <td>DOUBLE DRAGON</td>\n",
       "      <td>Bronx</td>\n",
       "      <td>182</td>\n",
       "      <td>EAST  166 STREET</td>\n",
       "      <td>10456.0</td>\n",
       "      <td>7184102838</td>\n",
       "      <td>Chinese</td>\n",
       "      <td>2/24/20</td>\n",
       "      <td>Violations were cited in the following area(s).</td>\n",
       "      <td>...</td>\n",
       "      <td>9/11/21</td>\n",
       "      <td>Cycle Inspection / Re-inspection</td>\n",
       "      <td>40.831591</td>\n",
       "      <td>-73.918842</td>\n",
       "      <td>204.0</td>\n",
       "      <td>16.0</td>\n",
       "      <td>18102.0</td>\n",
       "      <td>2002727.0</td>\n",
       "      <td>2.024560e+09</td>\n",
       "      <td>BX14</td>\n",
       "    </tr>\n",
       "    <tr>\n",
       "      <th>1</th>\n",
       "      <td>30112340</td>\n",
       "      <td>C &amp; J JAMAICAN RESTAURANT AND BAKERY</td>\n",
       "      <td>Queens</td>\n",
       "      <td>24712</td>\n",
       "      <td>S CONDUIT AVE</td>\n",
       "      <td>11422.0</td>\n",
       "      <td>7187122273</td>\n",
       "      <td>Caribbean</td>\n",
       "      <td>1/15/20</td>\n",
       "      <td>Violations were cited in the following area(s).</td>\n",
       "      <td>...</td>\n",
       "      <td>9/11/21</td>\n",
       "      <td>Cycle Inspection / Re-inspection</td>\n",
       "      <td>40.665344</td>\n",
       "      <td>-73.730738</td>\n",
       "      <td>413.0</td>\n",
       "      <td>31.0</td>\n",
       "      <td>65600.0</td>\n",
       "      <td>4289451.0</td>\n",
       "      <td>4.136210e+09</td>\n",
       "      <td>QN05</td>\n",
       "    </tr>\n",
       "    <tr>\n",
       "      <th>2</th>\n",
       "      <td>40356483</td>\n",
       "      <td>KINGSTON BAKE SHOP</td>\n",
       "      <td>Brooklyn</td>\n",
       "      <td>380</td>\n",
       "      <td>KINGSTON AVENUE</td>\n",
       "      <td>11225.0</td>\n",
       "      <td>7184672047</td>\n",
       "      <td>Jewish/Kosher</td>\n",
       "      <td>8/24/21</td>\n",
       "      <td>Violations were cited in the following area(s).</td>\n",
       "      <td>...</td>\n",
       "      <td>9/11/21</td>\n",
       "      <td>Cycle Inspection / Initial Inspection</td>\n",
       "      <td>40.665687</td>\n",
       "      <td>-73.942554</td>\n",
       "      <td>309.0</td>\n",
       "      <td>35.0</td>\n",
       "      <td>33300.0</td>\n",
       "      <td>3034304.0</td>\n",
       "      <td>3.012990e+09</td>\n",
       "      <td>BK63</td>\n",
       "    </tr>\n",
       "    <tr>\n",
       "      <th>3</th>\n",
       "      <td>40356731</td>\n",
       "      <td>DENNY'S</td>\n",
       "      <td>Brooklyn</td>\n",
       "      <td>805</td>\n",
       "      <td>PENNSYLVANIA AVENUE</td>\n",
       "      <td>11207.0</td>\n",
       "      <td>7182720301</td>\n",
       "      <td>American</td>\n",
       "      <td>2/4/20</td>\n",
       "      <td>Violations were cited in the following area(s).</td>\n",
       "      <td>...</td>\n",
       "      <td>9/11/21</td>\n",
       "      <td>Cycle Inspection / Initial Inspection</td>\n",
       "      <td>40.657892</td>\n",
       "      <td>-73.890098</td>\n",
       "      <td>305.0</td>\n",
       "      <td>42.0</td>\n",
       "      <td>110400.0</td>\n",
       "      <td>3097669.0</td>\n",
       "      <td>3.043470e+09</td>\n",
       "      <td>BK82</td>\n",
       "    </tr>\n",
       "    <tr>\n",
       "      <th>4</th>\n",
       "      <td>40357217</td>\n",
       "      <td>MBJ - E KIOSK</td>\n",
       "      <td>Queens</td>\n",
       "      <td>3110</td>\n",
       "      <td>THOMSON AVE</td>\n",
       "      <td>11101.0</td>\n",
       "      <td>7184820176</td>\n",
       "      <td>Coffee/Tea</td>\n",
       "      <td>1/9/20</td>\n",
       "      <td>Violations were cited in the following area(s).</td>\n",
       "      <td>...</td>\n",
       "      <td>9/11/21</td>\n",
       "      <td>Pre-permit (Operational) / Initial Inspection</td>\n",
       "      <td>40.744895</td>\n",
       "      <td>-73.935022</td>\n",
       "      <td>402.0</td>\n",
       "      <td>26.0</td>\n",
       "      <td>17900.0</td>\n",
       "      <td>4003534.0</td>\n",
       "      <td>4.002780e+09</td>\n",
       "      <td>QN31</td>\n",
       "    </tr>\n",
       "  </tbody>\n",
       "</table>\n",
       "<p>5 rows × 26 columns</p>\n",
       "</div>"
      ],
      "text/plain": [
       "      CAMIS                                   DBA      BORO BUILDING  \\\n",
       "0  30075445                         DOUBLE DRAGON     Bronx      182   \n",
       "1  30112340  C & J JAMAICAN RESTAURANT AND BAKERY    Queens    24712   \n",
       "2  40356483                    KINGSTON BAKE SHOP  Brooklyn      380   \n",
       "3  40356731                               DENNY'S  Brooklyn      805   \n",
       "4  40357217                         MBJ - E KIOSK    Queens     3110   \n",
       "\n",
       "                STREET  ZIPCODE       PHONE CUISINE DESCRIPTION  \\\n",
       "0     EAST  166 STREET  10456.0  7184102838             Chinese   \n",
       "1        S CONDUIT AVE  11422.0  7187122273           Caribbean   \n",
       "2      KINGSTON AVENUE  11225.0  7184672047       Jewish/Kosher   \n",
       "3  PENNSYLVANIA AVENUE  11207.0  7182720301            American   \n",
       "4          THOMSON AVE  11101.0  7184820176          Coffee/Tea   \n",
       "\n",
       "  INSPECTION DATE                                           ACTION  ...  \\\n",
       "0         2/24/20  Violations were cited in the following area(s).  ...   \n",
       "1         1/15/20  Violations were cited in the following area(s).  ...   \n",
       "2         8/24/21  Violations were cited in the following area(s).  ...   \n",
       "3          2/4/20  Violations were cited in the following area(s).  ...   \n",
       "4          1/9/20  Violations were cited in the following area(s).  ...   \n",
       "\n",
       "  RECORD DATE                                INSPECTION TYPE   Latitude  \\\n",
       "0     9/11/21               Cycle Inspection / Re-inspection  40.831591   \n",
       "1     9/11/21               Cycle Inspection / Re-inspection  40.665344   \n",
       "2     9/11/21          Cycle Inspection / Initial Inspection  40.665687   \n",
       "3     9/11/21          Cycle Inspection / Initial Inspection  40.657892   \n",
       "4     9/11/21  Pre-permit (Operational) / Initial Inspection  40.744895   \n",
       "\n",
       "   Longitude Community Board Council District Census Tract        BIN  \\\n",
       "0 -73.918842           204.0             16.0      18102.0  2002727.0   \n",
       "1 -73.730738           413.0             31.0      65600.0  4289451.0   \n",
       "2 -73.942554           309.0             35.0      33300.0  3034304.0   \n",
       "3 -73.890098           305.0             42.0     110400.0  3097669.0   \n",
       "4 -73.935022           402.0             26.0      17900.0  4003534.0   \n",
       "\n",
       "            BBL   NTA  \n",
       "0  2.024560e+09  BX14  \n",
       "1  4.136210e+09  QN05  \n",
       "2  3.012990e+09  BK63  \n",
       "3  3.043470e+09  BK82  \n",
       "4  4.002780e+09  QN31  \n",
       "\n",
       "[5 rows x 26 columns]"
      ]
     },
     "execution_count": 48,
     "metadata": {},
     "output_type": "execute_result"
    }
   ],
   "source": [
    "rest_db = pd.read_csv(\"DOHMH_New_York_City_Restaurant_Inspection_Res_Cleaned1.csv\")\n",
    "rest_db.head()"
   ]
  },
  {
   "cell_type": "code",
   "execution_count": 49,
   "id": "6035b4a0",
   "metadata": {},
   "outputs": [
    {
     "data": {
      "text/plain": [
       "12527"
      ]
     },
     "execution_count": 49,
     "metadata": {},
     "output_type": "execute_result"
    }
   ],
   "source": [
    "len(rest_db)"
   ]
  },
  {
   "cell_type": "code",
   "execution_count": 50,
   "id": "adb4dff9",
   "metadata": {},
   "outputs": [],
   "source": [
    "rest_db[\"Duplicate\"] = rest_db.duplicated(keep = 'first')"
   ]
  },
  {
   "cell_type": "code",
   "execution_count": 51,
   "id": "7856fa40",
   "metadata": {},
   "outputs": [
    {
     "data": {
      "text/plain": [
       "False    12527\n",
       "Name: Duplicate, dtype: int64"
      ]
     },
     "execution_count": 51,
     "metadata": {},
     "output_type": "execute_result"
    }
   ],
   "source": [
    "rest_db[\"Duplicate\"].value_counts()"
   ]
  },
  {
   "cell_type": "code",
   "execution_count": 52,
   "id": "0aec7300",
   "metadata": {},
   "outputs": [
    {
     "name": "stdout",
     "output_type": "stream",
     "text": [
      "<class 'pandas.core.frame.DataFrame'>\n",
      "RangeIndex: 12527 entries, 0 to 12526\n",
      "Data columns (total 27 columns):\n",
      " #   Column                 Non-Null Count  Dtype  \n",
      "---  ------                 --------------  -----  \n",
      " 0   CAMIS                  12527 non-null  int64  \n",
      " 1   DBA                    12525 non-null  object \n",
      " 2   BORO                   12527 non-null  object \n",
      " 3   BUILDING               12509 non-null  object \n",
      " 4   STREET                 12527 non-null  object \n",
      " 5   ZIPCODE                12381 non-null  float64\n",
      " 6   PHONE                  12526 non-null  object \n",
      " 7   CUISINE DESCRIPTION    12527 non-null  object \n",
      " 8   INSPECTION DATE        12527 non-null  object \n",
      " 9   ACTION                 12527 non-null  object \n",
      " 10  VIOLATION CODE         12401 non-null  object \n",
      " 11  VIOLATION DESCRIPTION  12440 non-null  object \n",
      " 12  CRITICAL FLAG          12527 non-null  object \n",
      " 13  SCORE                  12097 non-null  float64\n",
      " 14  GRADE                  8144 non-null   object \n",
      " 15  GRADE DATE             7364 non-null   object \n",
      " 16  RECORD DATE            12527 non-null  object \n",
      " 17  INSPECTION TYPE        12527 non-null  object \n",
      " 18  Latitude               12514 non-null  float64\n",
      " 19  Longitude              12514 non-null  float64\n",
      " 20  Community Board        12352 non-null  float64\n",
      " 21  Council District       12352 non-null  float64\n",
      " 22  Census Tract           12352 non-null  float64\n",
      " 23  BIN                    12290 non-null  float64\n",
      " 24  BBL                    12498 non-null  float64\n",
      " 25  NTA                    12352 non-null  object \n",
      " 26  Duplicate              12527 non-null  bool   \n",
      "dtypes: bool(1), float64(9), int64(1), object(16)\n",
      "memory usage: 2.5+ MB\n"
     ]
    }
   ],
   "source": [
    "rest_db.info()"
   ]
  },
  {
   "cell_type": "code",
   "execution_count": 53,
   "id": "a19a9a27",
   "metadata": {},
   "outputs": [],
   "source": [
    "rest_db.drop(['SCORE', 'GRADE','GRADE DATE','RECORD DATE','Community Board','Council District','Census Tract','BIN','BBL','NTA','Duplicate'], axis = 1,inplace = True)"
   ]
  },
  {
   "cell_type": "code",
   "execution_count": 54,
   "id": "a4d2fd9b",
   "metadata": {},
   "outputs": [],
   "source": [
    "rest_db.rename(columns={'dba': 'restaurant'}, inplace=True)"
   ]
  },
  {
   "cell_type": "code",
   "execution_count": 55,
   "id": "38d00359",
   "metadata": {},
   "outputs": [],
   "source": [
    "rest_db.to_csv(\"Data/cleaned_db.csv\", index = False)"
   ]
  },
  {
   "cell_type": "code",
   "execution_count": 63,
   "id": "ce47017f",
   "metadata": {
    "scrolled": true
   },
   "outputs": [],
   "source": [
    "new_db = rest_db.dropna()"
   ]
  },
  {
   "cell_type": "code",
   "execution_count": 65,
   "id": "f5700475",
   "metadata": {},
   "outputs": [],
   "source": [
    "new_db.to_csv(\"Data/cleaned_db2.csv\", index = False)"
   ]
  },
  {
   "cell_type": "code",
   "execution_count": 66,
   "id": "c7581c73",
   "metadata": {},
   "outputs": [],
   "source": [
    "new_db.to_json(\"Data/cleaned_db2.json\")"
   ]
  },
  {
   "cell_type": "code",
   "execution_count": null,
   "id": "0be7eac7",
   "metadata": {},
   "outputs": [],
   "source": []
  }
 ],
 "metadata": {
  "kernelspec": {
   "display_name": "Python 3",
   "language": "python",
   "name": "python3"
  },
  "language_info": {
   "codemirror_mode": {
    "name": "ipython",
    "version": 3
   },
   "file_extension": ".py",
   "mimetype": "text/x-python",
   "name": "python",
   "nbconvert_exporter": "python",
   "pygments_lexer": "ipython3",
   "version": "3.8.8"
  }
 },
 "nbformat": 4,
 "nbformat_minor": 5
}
